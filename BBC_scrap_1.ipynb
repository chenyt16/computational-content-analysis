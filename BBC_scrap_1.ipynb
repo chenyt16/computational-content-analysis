{
 "cells": [
  {
   "cell_type": "code",
   "execution_count": 11,
   "id": "a37fb3c6-9c44-4bfe-8439-3dd90e9f8dea",
   "metadata": {},
   "outputs": [],
   "source": [
    "from selenium import webdriver\n",
    "from selenium.webdriver.chrome.options import Options\n",
    "from selenium.webdriver.common.by import By\n",
    "from selenium.webdriver.support.ui import WebDriverWait\n",
    "from selenium.webdriver.support import expected_conditions as EC\n",
    "import requests\n",
    "from bs4 import BeautifulSoup\n",
    "\n",
    "chrome_options = Options()\n",
    "chrome_options.add_argument(\"--headless\")  # Run in headless mode\n",
    "chrome_options.add_argument(\"--no-sandbox\")  # Bypass OS security model, required for headless mode\n",
    "chrome_options.add_argument(\"--disable-gpu\")  # Disable GPU hardware acceleration\n",
    "chrome_options.add_argument(\"--disable-dev-shm-usage\")  # Overcome limited resource problems\n",
    "\n",
    "driver = webdriver.Chrome(options=chrome_options)"
   ]
  },
  {
   "cell_type": "code",
   "execution_count": 12,
   "id": "1f00e16f-296f-4e2d-aff6-b9db80bf59d9",
   "metadata": {},
   "outputs": [],
   "source": [
    "driver.get('https://www.bbc.com/search?q=abortion')"
   ]
  },
  {
   "cell_type": "code",
   "execution_count": 13,
   "id": "0c21de31-c368-414c-aa77-ef549cdd9517",
   "metadata": {},
   "outputs": [],
   "source": [
    "#wait = WebDriverWait(driver, 10)\n",
    "#load_more_button = wait.until(EC.element_to_be_clickable((By.CSS_SELECTOR, 'div.button.load-more')))\n",
    "#obstructing_element = WebDriverWait(driver, 10).until(\n",
    "#    EC.invisibility_of_element((By.CSS_SELECTOR, 'div.alert-banner.is-breaking'))\n",
    "#)"
   ]
  },
  {
   "cell_type": "code",
   "execution_count": 14,
   "id": "f1446a1f-eec2-43d3-8a70-f97752e7a365",
   "metadata": {},
   "outputs": [
    {
     "data": {
      "text/plain": [
       "<selenium.webdriver.chrome.webdriver.WebDriver (session=\"ddbddb249044d18fe4b52ce72e3c30f1\")>"
      ]
     },
     "execution_count": 14,
     "metadata": {},
     "output_type": "execute_result"
    }
   ],
   "source": [
    "driver"
   ]
  },
  {
   "cell_type": "code",
   "execution_count": 15,
   "id": "937662dc-e0a0-46e7-9ae9-82d10a01bb3d",
   "metadata": {},
   "outputs": [
    {
     "name": "stdout",
     "output_type": "stream",
     "text": [
      "Found link: https://www.bbc.com/news/health-68036171\n",
      "Found link: https://www.bbc.com/news/world-latin-america-68014699\n",
      "Found link: https://www.bbc.com/news/uk-politics-68033947\n",
      "Found link: https://www.bbc.com/news/world-us-canada-68027344\n",
      "Found link: https://www.bbc.com/news/uk-england-tees-67927099\n",
      "Found link: https://www.bbc.com/news/uk-northern-ireland-67896139\n",
      "Found link: https://www.bbc.com/news/world-australia-68064850\n",
      "Found link: https://www.bbc.com/news/uk-northern-ireland-67749785\n",
      "Found link: https://www.bbc.com/news/uk-england-dorset-67731454\n"
     ]
    }
   ],
   "source": [
    "url = 'https://www.bbc.com/search?q=abortion'\n",
    "link_set = set()\n",
    "try:\n",
    "    driver.get(url)\n",
    "    # Wait for the elements inside the specific class to be present\n",
    "    WebDriverWait(driver, 10).until(\n",
    "        EC.presence_of_all_elements_located((By.XPATH, \"//div[contains(@class, 'sc-32f23d22-1 VSDHh')]//a[@data-testid='internal-link']\"))\n",
    "    )\n",
    "\n",
    "    # Find all links within the specified class\n",
    "    link_elements = driver.find_elements(By.XPATH, \"//div[contains(@class, 'sc-32f23d22-1 VSDHh')]//a[@data-testid='internal-link']\")\n",
    "    for link_element in link_elements:\n",
    "        link = link_element.get_attribute('href')\n",
    "        print(\"Found link:\", link)\n",
    "        link_set.add(str(link))\n",
    "\n",
    "finally:\n",
    "    driver.quit()"
   ]
  },
  {
   "cell_type": "code",
   "execution_count": 16,
   "id": "8bf23da3-0473-4902-a6fd-4c1235e0a7c3",
   "metadata": {},
   "outputs": [
    {
     "data": {
      "text/plain": [
       "'https://www.bbc.com/news/uk-england-dorset-67731454'"
      ]
     },
     "execution_count": 16,
     "metadata": {},
     "output_type": "execute_result"
    }
   ],
   "source": [
    "link"
   ]
  },
  {
   "cell_type": "code",
   "execution_count": 17,
   "id": "3ac546cf-9d2a-4f79-9d0c-9be16cec132c",
   "metadata": {},
   "outputs": [
    {
     "name": "stdout",
     "output_type": "stream",
     "text": [
      "https://www.bbc.com/news/uk-northern-ireland-67896139\n",
      "https://www.bbc.com/news/health-68036171\n",
      "https://www.bbc.com/news/uk-england-dorset-67731454\n",
      "https://www.bbc.com/news/world-latin-america-68014699\n",
      "https://www.bbc.com/news/uk-politics-68033947\n",
      "https://www.bbc.com/news/uk-northern-ireland-67749785\n",
      "https://www.bbc.com/news/world-us-canada-68027344\n",
      "https://www.bbc.com/news/uk-england-tees-67927099\n",
      "https://www.bbc.com/news/world-australia-68064850\n"
     ]
    }
   ],
   "source": [
    "text_res = []\n",
    "for link in link_set:\n",
    "    if link != 'None':\n",
    "        response = requests.get(link)\n",
    "        print(link)\n",
    "        soup = BeautifulSoup(response.content, 'html.parser')\n",
    "        cur_text = []\n",
    "        paragraphs = soup.find_all('p')\n",
    "        for paragraph in paragraphs:\n",
    "            cur_text.append(paragraph.get_text())\n",
    "        text_res.append('\\n'.join(cur_text))"
   ]
  },
  {
   "cell_type": "code",
   "execution_count": 18,
   "id": "fce842c2-0e9c-4691-b1e2-3d93aa5e19f5",
   "metadata": {},
   "outputs": [],
   "source": [
    "with open('BBC_news.txt', 'w') as file:\n",
    "    # Iterate over the list\n",
    "    for item in text_res:\n",
    "        # Write each item to the file followed by a newline\n",
    "        file.write(item + '\\n')"
   ]
  },
  {
   "cell_type": "code",
   "execution_count": null,
   "id": "2b912c72-8649-4f2a-a06e-fd1fdd61edf5",
   "metadata": {},
   "outputs": [],
   "source": []
  }
 ],
 "metadata": {
  "kernelspec": {
   "display_name": "base",
   "language": "python",
   "name": "python3"
  },
  "language_info": {
   "codemirror_mode": {
    "name": "ipython",
    "version": 3
   },
   "file_extension": ".py",
   "mimetype": "text/x-python",
   "name": "python",
   "nbconvert_exporter": "python",
   "pygments_lexer": "ipython3",
   "version": "3.11.4"
  }
 },
 "nbformat": 4,
 "nbformat_minor": 5
}
