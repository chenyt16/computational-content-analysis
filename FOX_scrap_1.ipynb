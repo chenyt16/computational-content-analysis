{
 "cells": [
  {
   "cell_type": "code",
   "execution_count": 10,
   "id": "a37fb3c6-9c44-4bfe-8439-3dd90e9f8dea",
   "metadata": {},
   "outputs": [
    {
     "name": "stdout",
     "output_type": "stream",
     "text": [
      "Requirement already satisfied: selenium in c:\\users\\cheny\\anaconda3\\lib\\site-packages (4.17.2)\n",
      "Requirement already satisfied: urllib3[socks]<3,>=1.26 in c:\\users\\cheny\\anaconda3\\lib\\site-packages (from selenium) (1.26.16)\n",
      "Requirement already satisfied: trio~=0.17 in c:\\users\\cheny\\anaconda3\\lib\\site-packages (from selenium) (0.24.0)\n",
      "Requirement already satisfied: trio-websocket~=0.9 in c:\\users\\cheny\\anaconda3\\lib\\site-packages (from selenium) (0.11.1)\n",
      "Requirement already satisfied: certifi>=2021.10.8 in c:\\users\\cheny\\anaconda3\\lib\\site-packages (from selenium) (2023.7.22)\n",
      "Requirement already satisfied: typing_extensions>=4.9.0 in c:\\users\\cheny\\anaconda3\\lib\\site-packages (from selenium) (4.9.0)\n",
      "Requirement already satisfied: attrs>=20.1.0 in c:\\users\\cheny\\anaconda3\\lib\\site-packages (from trio~=0.17->selenium) (22.1.0)\n",
      "Requirement already satisfied: sortedcontainers in c:\\users\\cheny\\anaconda3\\lib\\site-packages (from trio~=0.17->selenium) (2.4.0)\n",
      "Requirement already satisfied: idna in c:\\users\\cheny\\anaconda3\\lib\\site-packages (from trio~=0.17->selenium) (3.4)\n",
      "Requirement already satisfied: outcome in c:\\users\\cheny\\anaconda3\\lib\\site-packages (from trio~=0.17->selenium) (1.3.0.post0)\n",
      "Requirement already satisfied: sniffio>=1.3.0 in c:\\users\\cheny\\anaconda3\\lib\\site-packages (from trio~=0.17->selenium) (1.3.0)\n",
      "Requirement already satisfied: cffi>=1.14 in c:\\users\\cheny\\anaconda3\\lib\\site-packages (from trio~=0.17->selenium) (1.15.1)\n",
      "Requirement already satisfied: wsproto>=0.14 in c:\\users\\cheny\\anaconda3\\lib\\site-packages (from trio-websocket~=0.9->selenium) (1.2.0)\n",
      "Requirement already satisfied: PySocks!=1.5.7,<2.0,>=1.5.6 in c:\\users\\cheny\\anaconda3\\lib\\site-packages (from urllib3[socks]<3,>=1.26->selenium) (1.7.1)\n",
      "Requirement already satisfied: pycparser in c:\\users\\cheny\\anaconda3\\lib\\site-packages (from cffi>=1.14->trio~=0.17->selenium) (2.21)\n",
      "Requirement already satisfied: h11<1,>=0.9.0 in c:\\users\\cheny\\anaconda3\\lib\\site-packages (from wsproto>=0.14->trio-websocket~=0.9->selenium) (0.14.0)\n"
     ]
    }
   ],
   "source": [
    "!pip install selenium\n",
    "from selenium import webdriver\n",
    "from selenium.webdriver.chrome.options import Options\n",
    "from selenium.webdriver.common.by import By\n",
    "from selenium.webdriver.support.ui import WebDriverWait\n",
    "from selenium.webdriver.support import expected_conditions as EC\n",
    "import requests\n",
    "from bs4 import BeautifulSoup\n",
    "\n",
    "chrome_options = Options()\n",
    "chrome_options.add_argument(\"--headless\")  # Run in headless mode\n",
    "chrome_options.add_argument(\"--no-sandbox\")  # Bypass OS security model, required for headless mode\n",
    "chrome_options.add_argument(\"--disable-gpu\")  # Disable GPU hardware acceleration\n",
    "chrome_options.add_argument(\"--disable-dev-shm-usage\")  # Overcome limited resource problems\n",
    "\n",
    "driver = webdriver.Chrome(options=chrome_options)"
   ]
  },
  {
   "cell_type": "code",
   "execution_count": 2,
   "id": "1f00e16f-296f-4e2d-aff6-b9db80bf59d9",
   "metadata": {},
   "outputs": [],
   "source": [
    "driver.get('https://www.foxnews.com/search-results/search?q=abortion')"
   ]
  },
  {
   "cell_type": "code",
   "execution_count": 3,
   "id": "0c21de31-c368-414c-aa77-ef549cdd9517",
   "metadata": {},
   "outputs": [],
   "source": [
    "#wait = WebDriverWait(driver, 10)\n",
    "#load_more_button = wait.until(EC.element_to_be_clickable((By.CSS_SELECTOR, 'div.button.load-more')))\n",
    "#obstructing_element = WebDriverWait(driver, 10).until(\n",
    "#    EC.invisibility_of_element((By.CSS_SELECTOR, 'div.alert-banner.is-breaking'))\n",
    "#)"
   ]
  },
  {
   "cell_type": "code",
   "execution_count": 4,
   "id": "f1446a1f-eec2-43d3-8a70-f97752e7a365",
   "metadata": {},
   "outputs": [],
   "source": [
    "#load_more_button.click()"
   ]
  },
  {
   "cell_type": "code",
   "execution_count": 5,
   "id": "acd85cf6-3adf-4fb7-9b86-ae0853af759f",
   "metadata": {},
   "outputs": [],
   "source": [
    "articles = driver.find_elements(By.CLASS_NAME, 'title')\n",
    "container = driver.find_element(By.CLASS_NAME, 'search-results-content')\n",
    "links = container.find_elements(By.TAG_NAME, 'a')"
   ]
  },
  {
   "cell_type": "code",
   "execution_count": 6,
   "id": "15d20bff-7d78-4433-aea4-015a8b62be26",
   "metadata": {},
   "outputs": [
    {
     "name": "stdout",
     "output_type": "stream",
     "text": [
      "https://www.foxnews.com/category/politics/judiciary/abortion\n",
      "https://www.foxnews.com/category/politics/judiciary/abortion\n",
      "https://www.foxnews.com/category/politics/judiciary/abortion\n",
      "https://www.foxnews.com/category/politics/judiciary/abortion\n",
      "https://www.foxnews.com/politics/biden-abortion-rally-virginia-interrupted-multiple-protesters-genocide-joe\n",
      "https://www.foxnews.com/politics/biden-abortion-rally-virginia-interrupted-multiple-protesters-genocide-joe\n",
      "https://www.foxnews.com/politics/biden-abortion-rally-virginia-interrupted-multiple-protesters-genocide-joe\n",
      "https://www.foxnews.com/politics/biden-abortion-rally-virginia-interrupted-multiple-protesters-genocide-joe\n",
      "https://www.foxnews.com/politics/biden-calls-trump-most-responsible-stripping-away-abortion-vows-veto-any-nationwide-ban\n",
      "https://www.foxnews.com/politics/biden-calls-trump-most-responsible-stripping-away-abortion-vows-veto-any-nationwide-ban\n",
      "https://www.foxnews.com/politics/biden-calls-trump-most-responsible-stripping-away-abortion-vows-veto-any-nationwide-ban\n",
      "https://www.foxnews.com/politics/biden-calls-trump-most-responsible-stripping-away-abortion-vows-veto-any-nationwide-ban\n",
      "https://www.foxnews.com/politics/biden-campaign-attack-ad-blames-trump-dobbs-abortion-decision\n",
      "https://www.foxnews.com/politics/biden-campaign-attack-ad-blames-trump-dobbs-abortion-decision\n",
      "https://www.foxnews.com/politics/biden-campaign-attack-ad-blames-trump-dobbs-abortion-decision\n",
      "https://www.foxnews.com/politics/biden-campaign-attack-ad-blames-trump-dobbs-abortion-decision\n",
      "https://www.foxnews.com/politics/republican-states-unite-pro-life-doctors-scotus-abortion-pill-battle\n",
      "https://www.foxnews.com/politics/republican-states-unite-pro-life-doctors-scotus-abortion-pill-battle\n",
      "https://www.foxnews.com/politics/republican-states-unite-pro-life-doctors-scotus-abortion-pill-battle\n",
      "https://www.foxnews.com/politics/republican-states-unite-pro-life-doctors-scotus-abortion-pill-battle\n",
      "https://www.foxnews.com/politics/pro-life-voters-trumps-stance-abortion\n",
      "https://www.foxnews.com/politics/pro-life-voters-trumps-stance-abortion\n",
      "https://www.foxnews.com/politics/pro-life-voters-trumps-stance-abortion\n",
      "https://www.foxnews.com/politics/pro-life-voters-trumps-stance-abortion\n",
      "https://www.foxnews.com/media/wisconsin-medical-student-admits-support-full-term-abortion-leave-state-training-banned\n",
      "https://www.foxnews.com/media/wisconsin-medical-student-admits-support-full-term-abortion-leave-state-training-banned\n",
      "https://www.foxnews.com/media/wisconsin-medical-student-admits-support-full-term-abortion-leave-state-training-banned\n",
      "https://www.foxnews.com/media/wisconsin-medical-student-admits-support-full-term-abortion-leave-state-training-banned\n",
      "https://www.foxnews.com/politics/pro-life-leader-anticipates-major-victories-despite-recent-ballot-initiatives-expanding-abortion-access\n",
      "https://www.foxnews.com/politics/pro-life-leader-anticipates-major-victories-despite-recent-ballot-initiatives-expanding-abortion-access\n",
      "https://www.foxnews.com/politics/pro-life-leader-anticipates-major-victories-despite-recent-ballot-initiatives-expanding-abortion-access\n",
      "https://www.foxnews.com/politics/pro-life-leader-anticipates-major-victories-despite-recent-ballot-initiatives-expanding-abortion-access\n",
      "https://www.foxnews.com/politics/pro-life-healthcare-workers-urge-pro-family-policies-medical-institutions-abortion\n",
      "https://www.foxnews.com/politics/pro-life-healthcare-workers-urge-pro-family-policies-medical-institutions-abortion\n",
      "https://www.foxnews.com/politics/pro-life-healthcare-workers-urge-pro-family-policies-medical-institutions-abortion\n",
      "https://www.foxnews.com/politics/pro-life-healthcare-workers-urge-pro-family-policies-medical-institutions-abortion\n",
      "https://www.foxnews.com/politics/haley-calls-consensus-issue-abortion-pence-says-opposite-leadership\n",
      "https://www.foxnews.com/politics/haley-calls-consensus-issue-abortion-pence-says-opposite-leadership\n",
      "https://www.foxnews.com/politics/haley-calls-consensus-issue-abortion-pence-says-opposite-leadership\n",
      "https://www.foxnews.com/politics/haley-calls-consensus-issue-abortion-pence-says-opposite-leadership\n",
      "None\n"
     ]
    }
   ],
   "source": [
    "link_set = set()\n",
    "for element in links:\n",
    "    print(element.get_attribute('href'))\n",
    "    link_set.add(str(element.get_attribute('href')))"
   ]
  },
  {
   "cell_type": "code",
   "execution_count": 7,
   "id": "3ac546cf-9d2a-4f79-9d0c-9be16cec132c",
   "metadata": {},
   "outputs": [],
   "source": [
    "text_res = []\n",
    "for link in link_set:\n",
    "    if link != 'None':\n",
    "        response = requests.get(link)\n",
    "        soup = BeautifulSoup(response.content, 'html.parser')\n",
    "        cur_text = []\n",
    "        paragraphs = soup.find_all('p')\n",
    "        for paragraph in paragraphs:\n",
    "            cur_text.append(paragraph.get_text())\n",
    "        text_res.append('\\n'.join(cur_text))"
   ]
  },
  {
   "cell_type": "code",
   "execution_count": 8,
   "id": "bc7d9397-280a-4811-9a07-19a0fe7c7d18",
   "metadata": {},
   "outputs": [],
   "source": [
    "with open('fox_news.txt', 'w') as file:\n",
    "    # Iterate over the list\n",
    "    for item in text_res:\n",
    "        # Write each item to the file followed by a newline\n",
    "        file.write(item + '\\n')"
   ]
  },
  {
   "cell_type": "code",
   "execution_count": null,
   "id": "643be99a-8e8d-4ea2-a44b-850380a3dcb2",
   "metadata": {},
   "outputs": [],
   "source": []
  }
 ],
 "metadata": {
  "kernelspec": {
   "display_name": "base",
   "language": "python",
   "name": "python3"
  },
  "language_info": {
   "codemirror_mode": {
    "name": "ipython",
    "version": 3
   },
   "file_extension": ".py",
   "mimetype": "text/x-python",
   "name": "python",
   "nbconvert_exporter": "python",
   "pygments_lexer": "ipython3",
   "version": "3.11.4"
  }
 },
 "nbformat": 4,
 "nbformat_minor": 5
}
